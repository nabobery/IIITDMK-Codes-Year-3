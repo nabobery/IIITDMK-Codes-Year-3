{
 "cells": [
  {
   "attachments": {},
   "cell_type": "markdown",
   "metadata": {},
   "source": [
    "1.Perform Fisher Discriminant Analysis on pima-indians-diabetes.csv \\\n",
    "2. Perform Decision Tree classification on pima-indians-diabetes.csv \\\n",
    "3. Perform Fisher Discriminant Analysis on pima-indians-diabetes.csv and then perform decision tree classification. compare the results.\n",
    "\n",
    "colums in csv file is in this order : \\\n",
    "Fields description follow: \\\n",
    "A. preg = Number of times pregnant \\\n",
    "B. plas = Plasma glucose concentration a 2 hours in an oral glucose tolerance test \\\n",
    "C. pres = Diastolic blood pressure (mm Hg) \\\n",
    "D. skin = Triceps skin fold thickness (mm) \\\n",
    "E. test = 2-Hour serum insulin (mu U/ml) \\\n",
    "F. mass = Body mass index (weight in kg/(height in m)^2) \\\n",
    "g. pedi = Diabetes pedigree function \\\n",
    "H. age = Age (years) \\\n",
    "I. class = Class variable (1:tested positive for diabetes, 0: tested negative for diabetes)"
   ]
  },
  {
   "cell_type": "code",
   "execution_count": 70,
   "metadata": {},
   "outputs": [],
   "source": [
    "# This assignment is done by CS20B1044 Avinash R Changrani\n",
    "import numpy as np\n",
    "import pandas as pd\n",
    "import matplotlib.pyplot as plt\n",
    "%matplotlib inline"
   ]
  },
  {
   "cell_type": "code",
   "execution_count": 71,
   "metadata": {},
   "outputs": [
    {
     "data": {
      "text/html": [
       "<div>\n",
       "<style scoped>\n",
       "    .dataframe tbody tr th:only-of-type {\n",
       "        vertical-align: middle;\n",
       "    }\n",
       "\n",
       "    .dataframe tbody tr th {\n",
       "        vertical-align: top;\n",
       "    }\n",
       "\n",
       "    .dataframe thead th {\n",
       "        text-align: right;\n",
       "    }\n",
       "</style>\n",
       "<table border=\"1\" class=\"dataframe\">\n",
       "  <thead>\n",
       "    <tr style=\"text-align: right;\">\n",
       "      <th></th>\n",
       "      <th>preg</th>\n",
       "      <th>plas</th>\n",
       "      <th>pres</th>\n",
       "      <th>skin</th>\n",
       "      <th>test</th>\n",
       "      <th>mass</th>\n",
       "      <th>pedi</th>\n",
       "      <th>age</th>\n",
       "      <th>class</th>\n",
       "    </tr>\n",
       "  </thead>\n",
       "  <tbody>\n",
       "    <tr>\n",
       "      <th>0</th>\n",
       "      <td>1</td>\n",
       "      <td>85</td>\n",
       "      <td>66</td>\n",
       "      <td>29</td>\n",
       "      <td>0</td>\n",
       "      <td>26.6</td>\n",
       "      <td>0.351</td>\n",
       "      <td>31</td>\n",
       "      <td>0</td>\n",
       "    </tr>\n",
       "    <tr>\n",
       "      <th>1</th>\n",
       "      <td>8</td>\n",
       "      <td>183</td>\n",
       "      <td>64</td>\n",
       "      <td>0</td>\n",
       "      <td>0</td>\n",
       "      <td>23.3</td>\n",
       "      <td>0.672</td>\n",
       "      <td>32</td>\n",
       "      <td>1</td>\n",
       "    </tr>\n",
       "    <tr>\n",
       "      <th>2</th>\n",
       "      <td>1</td>\n",
       "      <td>89</td>\n",
       "      <td>66</td>\n",
       "      <td>23</td>\n",
       "      <td>94</td>\n",
       "      <td>28.1</td>\n",
       "      <td>0.167</td>\n",
       "      <td>21</td>\n",
       "      <td>0</td>\n",
       "    </tr>\n",
       "    <tr>\n",
       "      <th>3</th>\n",
       "      <td>0</td>\n",
       "      <td>137</td>\n",
       "      <td>40</td>\n",
       "      <td>35</td>\n",
       "      <td>168</td>\n",
       "      <td>43.1</td>\n",
       "      <td>2.288</td>\n",
       "      <td>33</td>\n",
       "      <td>1</td>\n",
       "    </tr>\n",
       "    <tr>\n",
       "      <th>4</th>\n",
       "      <td>5</td>\n",
       "      <td>116</td>\n",
       "      <td>74</td>\n",
       "      <td>0</td>\n",
       "      <td>0</td>\n",
       "      <td>25.6</td>\n",
       "      <td>0.201</td>\n",
       "      <td>30</td>\n",
       "      <td>0</td>\n",
       "    </tr>\n",
       "  </tbody>\n",
       "</table>\n",
       "</div>"
      ],
      "text/plain": [
       "   preg  plas  pres  skin  test  mass   pedi  age  class\n",
       "0     1    85    66    29     0  26.6  0.351   31      0\n",
       "1     8   183    64     0     0  23.3  0.672   32      1\n",
       "2     1    89    66    23    94  28.1  0.167   21      0\n",
       "3     0   137    40    35   168  43.1  2.288   33      1\n",
       "4     5   116    74     0     0  25.6  0.201   30      0"
      ]
     },
     "execution_count": 71,
     "metadata": {},
     "output_type": "execute_result"
    }
   ],
   "source": [
    "df = pd.read_csv('pima-indians-diabetes.csv')\n",
    "\n",
    "df.columns = [\"preg\", \"plas\", \"pres\", \"skin\", \"test\", \"mass\", \"pedi\", \"age\", \"class\"]\n",
    "\n",
    "df.head()\n",
    "\n",
    "# df.groupby('class').size()"
   ]
  },
  {
   "cell_type": "code",
   "execution_count": 72,
   "metadata": {},
   "outputs": [],
   "source": [
    "# Split the data into training and testing data\n",
    "\n",
    "from sklearn.model_selection import train_test_split\n",
    "\n",
    "# Features\n",
    "X = df.drop('class', axis=1)\n",
    "\n",
    "# Target variable\n",
    "y = df['class']\n",
    "\n",
    "X_train, X_test, y_train, y_test = train_test_split(X, y, test_size=0.3, random_state=42)"
   ]
  },
  {
   "cell_type": "code",
   "execution_count": 73,
   "metadata": {},
   "outputs": [
    {
     "data": {
      "text/html": [
       "<div>\n",
       "<style scoped>\n",
       "    .dataframe tbody tr th:only-of-type {\n",
       "        vertical-align: middle;\n",
       "    }\n",
       "\n",
       "    .dataframe tbody tr th {\n",
       "        vertical-align: top;\n",
       "    }\n",
       "\n",
       "    .dataframe thead th {\n",
       "        text-align: right;\n",
       "    }\n",
       "</style>\n",
       "<table border=\"1\" class=\"dataframe\">\n",
       "  <thead>\n",
       "    <tr style=\"text-align: right;\">\n",
       "      <th></th>\n",
       "      <th>preg</th>\n",
       "      <th>plas</th>\n",
       "      <th>pres</th>\n",
       "      <th>skin</th>\n",
       "      <th>test</th>\n",
       "      <th>mass</th>\n",
       "      <th>pedi</th>\n",
       "      <th>age</th>\n",
       "    </tr>\n",
       "    <tr>\n",
       "      <th>class</th>\n",
       "      <th></th>\n",
       "      <th></th>\n",
       "      <th></th>\n",
       "      <th></th>\n",
       "      <th></th>\n",
       "      <th></th>\n",
       "      <th></th>\n",
       "      <th></th>\n",
       "    </tr>\n",
       "  </thead>\n",
       "  <tbody>\n",
       "    <tr>\n",
       "      <th>0</th>\n",
       "      <td>3.335244</td>\n",
       "      <td>110.025788</td>\n",
       "      <td>67.908309</td>\n",
       "      <td>18.916905</td>\n",
       "      <td>65.318052</td>\n",
       "      <td>30.298567</td>\n",
       "      <td>0.423238</td>\n",
       "      <td>31.627507</td>\n",
       "    </tr>\n",
       "    <tr>\n",
       "      <th>1</th>\n",
       "      <td>4.978610</td>\n",
       "      <td>140.288770</td>\n",
       "      <td>74.347594</td>\n",
       "      <td>22.572193</td>\n",
       "      <td>105.128342</td>\n",
       "      <td>34.979679</td>\n",
       "      <td>0.555449</td>\n",
       "      <td>37.481283</td>\n",
       "    </tr>\n",
       "  </tbody>\n",
       "</table>\n",
       "</div>"
      ],
      "text/plain": [
       "           preg        plas       pres       skin        test       mass  \\\n",
       "class                                                                      \n",
       "0      3.335244  110.025788  67.908309  18.916905   65.318052  30.298567   \n",
       "1      4.978610  140.288770  74.347594  22.572193  105.128342  34.979679   \n",
       "\n",
       "           pedi        age  \n",
       "class                       \n",
       "0      0.423238  31.627507  \n",
       "1      0.555449  37.481283  "
      ]
     },
     "execution_count": 73,
     "metadata": {},
     "output_type": "execute_result"
    }
   ],
   "source": [
    "# (1) Perform Fischer's Discriminant Analysis on pima-indians-diabetes dataset \n",
    "\n",
    "X_mean = X_train.groupby(y_train).mean()\n",
    "\n",
    "X_mean"
   ]
  },
  {
   "cell_type": "code",
   "execution_count": 74,
   "metadata": {},
   "outputs": [
    {
     "name": "stdout",
     "output_type": "stream",
     "text": [
      "[  3.33524355 110.02578797  67.90830946  18.91690544  65.31805158\n",
      "  30.29856734   0.42323782  31.62750716]\n",
      "[  4.97860963 140.28877005  74.34759358  22.57219251 105.12834225\n",
      "  34.97967914   0.5554492   37.48128342]\n"
     ]
    }
   ],
   "source": [
    "# Computing mean vector for each class\n",
    "positives = df.loc[X_train.groupby(y_train).groups[0]]\n",
    "negatives = df.loc[X_train.groupby(y_train).groups[1]]\n",
    "\n",
    "# print(positives)\n",
    "# print(negatives)\n",
    "# positive_mean = np.array(X_mean.iloc[1])\n",
    "# negative_mean = np.array(X_mean.iloc[0])\n",
    "\n",
    "positives = positives.drop('class', axis=1)\n",
    "positives = np.array(positives)\n",
    "negatives = negatives.drop('class', axis=1)\n",
    "negatives = np.array(negatives)\n",
    "\n",
    "positive_mean = np.mean(positives, axis=0)\n",
    "\n",
    "negative_mean = np.mean(negatives, axis=0)\n",
    "\n",
    "\n",
    "print(positive_mean)\n",
    "\n",
    "print(negative_mean)"
   ]
  },
  {
   "cell_type": "code",
   "execution_count": 75,
   "metadata": {},
   "outputs": [
    {
     "name": "stdout",
     "output_type": "stream",
     "text": [
      "[[ 3.33577650e+03  3.72098281e+03  3.55272779e+03 -3.14027794e+03\n",
      "  -1.75322120e+04  3.16667622e+02 -2.24698252e+01  7.45458166e+03]\n",
      " [ 3.72098281e+03  2.38530768e+05  3.64358252e+04 -1.62625215e+03\n",
      "   2.69164138e+05  7.09851289e+03  2.09821860e+02  2.93603524e+04]\n",
      " [ 3.55272779e+03  3.64358252e+04  1.08855066e+05  1.32263410e+04\n",
      "   3.59261777e+04  1.92596542e+04 -2.41553897e+01  1.42060802e+04]\n",
      " [-3.14027794e+03 -1.62625215e+03  1.32263410e+04  8.26465903e+04\n",
      "   2.23668223e+05  1.74678585e+04  1.13921897e+02 -1.57628023e+04]\n",
      " [-1.75322120e+04  2.69164138e+05  3.59261777e+04  2.23668223e+05\n",
      "   3.10636770e+06  6.20633590e+04  1.32066260e+03 -8.18946533e+04]\n",
      " [ 3.16667622e+02  7.09851289e+03  1.92596542e+04  1.74678585e+04\n",
      "   6.20633590e+04  2.24858293e+04  3.61023189e+01  2.93813754e+02]\n",
      " [-2.24698252e+01  2.09821860e+02 -2.41553897e+01  1.13921897e+02\n",
      "   1.32066260e+03  3.61023189e+01  2.83286793e+01  5.75659169e+01]\n",
      " [ 7.45458166e+03  2.93603524e+04  1.42060802e+04 -1.57628023e+04\n",
      "  -8.18946533e+04  2.93813754e+02  5.75659169e+01  5.14115759e+04]]\n",
      "[[ 2.55791444e+03 -1.53884492e+03  9.52390374e+02 -8.81711230e+02\n",
      "  -9.44148663e+03 -1.14178128e+03 -6.98920321e+00  3.12192513e+03]\n",
      " [-1.53884492e+03  1.79322406e+05  1.19532299e+04 -2.55898396e+02\n",
      "   2.18462070e+05  3.31539733e+03  5.57627433e+01  3.87301070e+03]\n",
      " [ 9.52390374e+02  1.19532299e+04  5.23664064e+04  8.19080749e+03\n",
      "  -3.88734225e+03  5.92802086e+03  3.87080214e+00  9.96771658e+03]\n",
      " [-8.81711230e+02 -2.55898396e+02  8.19080749e+03  5.50497754e+04\n",
      "   2.12084267e+05  1.05106743e+04  3.65723936e+02 -5.17949733e+03]\n",
      " [-9.44148663e+03  2.18462070e+05 -3.88734225e+03  2.12084267e+05\n",
      "   3.95492692e+06  1.85073877e+04  1.50094222e+03  8.58844920e+03]\n",
      " [-1.14178128e+03  3.31539733e+03  5.92802086e+03  1.05106743e+04\n",
      "   1.85073877e+04  1.12831028e+04  7.98362070e+01 -3.18277112e+03]\n",
      " [-6.98920321e+00  5.57627433e+01  3.87080214e+00  3.65723936e+02\n",
      "   1.50094222e+03  7.98362070e+01  2.80581243e+01 -5.23724278e+01]\n",
      " [ 3.12192513e+03  3.87301070e+03  9.96771658e+03 -5.17949733e+03\n",
      "   8.58844920e+03 -3.18277112e+03 -5.23724278e+01  2.20966845e+04]]\n"
     ]
    }
   ],
   "source": [
    "# Calculating scatter matrices for each class\n",
    "count = X_train.groupby(y_train).size()\n",
    "\n",
    "list(X_train.groupby(y_train).groups[0])\n",
    "\n",
    "S1 = (count[0]-1)*np.cov(positives.T)\n",
    "\n",
    "print(S1)\n",
    "\n",
    "# print(S1.shape)\n",
    "\n",
    "S2 = (count[1]-1)*np.cov(negatives.T)\n",
    "\n",
    "print(S2)"
   ]
  },
  {
   "cell_type": "code",
   "execution_count": 76,
   "metadata": {},
   "outputs": [
    {
     "name": "stdout",
     "output_type": "stream",
     "text": [
      "[[ 5.89369094e+03  2.18213789e+03  4.50511817e+03 -4.02198917e+03\n",
      "  -2.69736987e+04 -8.25113662e+02 -2.94590284e+01  1.05765068e+04]\n",
      " [ 2.18213789e+03  4.17853174e+05  4.83890552e+04 -1.88215054e+03\n",
      "   4.87626207e+05  1.04139102e+04  2.65584603e+02  3.32333631e+04]\n",
      " [ 4.50511817e+03  4.83890552e+04  1.61221472e+05  2.14171485e+04\n",
      "   3.20388354e+04  2.51876750e+04 -2.02845875e+01  2.41737968e+04]\n",
      " [-4.02198917e+03 -1.88215054e+03  2.14171485e+04  1.37696366e+05\n",
      "   4.35752491e+05  2.79785328e+04  4.79645833e+02 -2.09422996e+04]\n",
      " [-2.69736987e+04  4.87626207e+05  3.20388354e+04  4.35752491e+05\n",
      "   7.06129462e+06  8.05707467e+04  2.82160482e+03 -7.33062041e+04]\n",
      " [-8.25113662e+02  1.04139102e+04  2.51876750e+04  2.79785328e+04\n",
      "   8.05707467e+04  3.37689321e+04  1.15938526e+02 -2.88895737e+03]\n",
      " [-2.94590284e+01  2.65584603e+02 -2.02845875e+01  4.79645833e+02\n",
      "   2.82160482e+03  1.15938526e+02  5.63868035e+01  5.19348910e+00]\n",
      " [ 1.05765068e+04  3.32333631e+04  2.41737968e+04 -2.09422996e+04\n",
      "  -7.33062041e+04 -2.88895737e+03  5.19348910e+00  7.35082604e+04]]\n"
     ]
    }
   ],
   "source": [
    "# Total scatter matrix\n",
    "\n",
    "S = S1 + S2\n",
    "print(S)"
   ]
  },
  {
   "cell_type": "code",
   "execution_count": 77,
   "metadata": {},
   "outputs": [
    {
     "name": "stdout",
     "output_type": "stream",
     "text": [
      "[[ 2.32424870e-04  1.03675104e-06 -2.47844917e-06 -5.42772491e-08\n",
      "   4.20136388e-07  3.14922601e-06  9.16176334e-05 -3.25745749e-05]\n",
      " [ 1.03675104e-06  2.88516681e-06 -6.90776252e-07  9.38105970e-07\n",
      "  -2.53068231e-07 -6.03330401e-07 -7.25816508e-06 -1.23470466e-06]\n",
      " [-2.47844917e-06 -6.90776252e-07  7.75973834e-06 -8.86169681e-07\n",
      "   8.78720360e-08 -5.36990527e-06  1.91405508e-05 -2.26017979e-06]\n",
      " [-5.42772491e-08  9.38105970e-07 -8.86169681e-07  1.14235958e-05\n",
      "  -6.38751134e-07 -7.19080992e-06 -5.53942421e-05  2.21397465e-06]\n",
      " [ 4.20136388e-07 -2.53068231e-07  8.78720360e-08 -6.38751134e-07\n",
      "   2.00523019e-07  8.90416117e-08 -3.34508226e-06  4.67948244e-08]\n",
      " [ 3.14922601e-06 -6.03330401e-07 -5.36990527e-06 -7.19080992e-06\n",
      "   8.90416117e-08  3.98065525e-05 -2.26900378e-05  1.19178942e-06]\n",
      " [ 9.16176334e-05 -7.25816508e-06  1.91405508e-05 -5.53942421e-05\n",
      "  -3.34508226e-06 -2.26900378e-05  1.85122831e-02 -3.75124244e-05]\n",
      " [-3.25745749e-05 -1.23470466e-06 -2.26017979e-06  2.21397465e-06\n",
      "   4.67948244e-08  1.19178942e-06 -3.75124244e-05  2.03192082e-05]]\n"
     ]
    }
   ],
   "source": [
    "from numpy.linalg import inv\n",
    "S_inv = inv(S)\n",
    "print(S_inv)"
   ]
  },
  {
   "cell_type": "code",
   "execution_count": 78,
   "metadata": {},
   "outputs": [
    {
     "name": "stdout",
     "output_type": "stream",
     "text": [
      "[-2.50072738e-04 -6.69121812e-05  1.05888972e-05 -1.08974202e-05\n",
      "  5.05785296e-07 -1.19914217e-04 -1.84023895e-03 -2.40673213e-05]\n"
     ]
    }
   ],
   "source": [
    "# Weight vector for projection\n",
    "W = np.matmul(S_inv, (positive_mean - negative_mean))\n",
    "print(W)"
   ]
  },
  {
   "cell_type": "code",
   "execution_count": 79,
   "metadata": {},
   "outputs": [
    {
     "name": "stdout",
     "output_type": "stream",
     "text": [
      "-0.012823430472839565 -0.016156383582266055 -0.01448990702755281\n"
     ]
    }
   ],
   "source": [
    "positive_mean_proj = np.matmul(W.T, positive_mean)\n",
    "negative_mean_proj = np.matmul(W.T, negative_mean)\n",
    "zcut = 0.5*(positive_mean_proj + negative_mean_proj)\n",
    "print(positive_mean_proj, negative_mean_proj,zcut)"
   ]
  },
  {
   "cell_type": "code",
   "execution_count": 80,
   "metadata": {},
   "outputs": [
    {
     "name": "stdout",
     "output_type": "stream",
     "text": [
      "Predicted Labels vs Actual Labels: \n"
     ]
    },
    {
     "data": {
      "text/html": [
       "<div>\n",
       "<style scoped>\n",
       "    .dataframe tbody tr th:only-of-type {\n",
       "        vertical-align: middle;\n",
       "    }\n",
       "\n",
       "    .dataframe tbody tr th {\n",
       "        vertical-align: top;\n",
       "    }\n",
       "\n",
       "    .dataframe thead th {\n",
       "        text-align: right;\n",
       "    }\n",
       "</style>\n",
       "<table border=\"1\" class=\"dataframe\">\n",
       "  <thead>\n",
       "    <tr style=\"text-align: right;\">\n",
       "      <th></th>\n",
       "      <th>Actual Labels</th>\n",
       "      <th>Predicted Labels</th>\n",
       "    </tr>\n",
       "  </thead>\n",
       "  <tbody>\n",
       "    <tr>\n",
       "      <th>667</th>\n",
       "      <td>0</td>\n",
       "      <td>0</td>\n",
       "    </tr>\n",
       "    <tr>\n",
       "      <th>324</th>\n",
       "      <td>0</td>\n",
       "      <td>0</td>\n",
       "    </tr>\n",
       "    <tr>\n",
       "      <th>623</th>\n",
       "      <td>0</td>\n",
       "      <td>0</td>\n",
       "    </tr>\n",
       "    <tr>\n",
       "      <th>689</th>\n",
       "      <td>0</td>\n",
       "      <td>0</td>\n",
       "    </tr>\n",
       "    <tr>\n",
       "      <th>521</th>\n",
       "      <td>0</td>\n",
       "      <td>0</td>\n",
       "    </tr>\n",
       "    <tr>\n",
       "      <th>...</th>\n",
       "      <td>...</td>\n",
       "      <td>...</td>\n",
       "    </tr>\n",
       "    <tr>\n",
       "      <th>618</th>\n",
       "      <td>1</td>\n",
       "      <td>0</td>\n",
       "    </tr>\n",
       "    <tr>\n",
       "      <th>198</th>\n",
       "      <td>1</td>\n",
       "      <td>1</td>\n",
       "    </tr>\n",
       "    <tr>\n",
       "      <th>537</th>\n",
       "      <td>0</td>\n",
       "      <td>0</td>\n",
       "    </tr>\n",
       "    <tr>\n",
       "      <th>329</th>\n",
       "      <td>0</td>\n",
       "      <td>1</td>\n",
       "    </tr>\n",
       "    <tr>\n",
       "      <th>302</th>\n",
       "      <td>1</td>\n",
       "      <td>1</td>\n",
       "    </tr>\n",
       "  </tbody>\n",
       "</table>\n",
       "<p>231 rows × 2 columns</p>\n",
       "</div>"
      ],
      "text/plain": [
       "     Actual Labels  Predicted Labels\n",
       "667              0                 0\n",
       "324              0                 0\n",
       "623              0                 0\n",
       "689              0                 0\n",
       "521              0                 0\n",
       "..             ...               ...\n",
       "618              1                 0\n",
       "198              1                 1\n",
       "537              0                 0\n",
       "329              0                 1\n",
       "302              1                 1\n",
       "\n",
       "[231 rows x 2 columns]"
      ]
     },
     "execution_count": 80,
     "metadata": {},
     "output_type": "execute_result"
    }
   ],
   "source": [
    "prediction = []\n",
    "accuracies = []\n",
    "\n",
    "for i in range(len(X_test)):\n",
    "    z = np.matmul(W.T, X_test.iloc[i])\n",
    "    if z > zcut:\n",
    "        prediction.append(0)\n",
    "    else:\n",
    "        prediction.append(1)\n",
    "\n",
    "temp = pd.DataFrame({'Actual Labels': y_test, 'Predicted Labels': prediction})\n",
    "print(\"Predicted Labels vs Actual Labels: \")\n",
    "temp"
   ]
  },
  {
   "cell_type": "code",
   "execution_count": 81,
   "metadata": {},
   "outputs": [
    {
     "name": "stdout",
     "output_type": "stream",
     "text": [
      "The Accuracy of Fischer's Discriminant Analysis is:  77.05627705627705 %\n"
     ]
    }
   ],
   "source": [
    "count = 0\n",
    "\n",
    "for i in range(len(y_test)):\n",
    "    if y_test.iloc[i] == prediction[i]:\n",
    "        count += 1\n",
    "\n",
    "accuracy = count / len(y_test)\n",
    "\n",
    "accuracies.append(accuracy)\n",
    "\n",
    "print(\"The Accuracy of Fischer's Discriminant Analysis is: \", accuracy*100, \"%\")"
   ]
  },
  {
   "cell_type": "code",
   "execution_count": 82,
   "metadata": {},
   "outputs": [
    {
     "name": "stdout",
     "output_type": "stream",
     "text": [
      "Predicted Labels vs Actual Labels: \n"
     ]
    },
    {
     "data": {
      "text/html": [
       "<div>\n",
       "<style scoped>\n",
       "    .dataframe tbody tr th:only-of-type {\n",
       "        vertical-align: middle;\n",
       "    }\n",
       "\n",
       "    .dataframe tbody tr th {\n",
       "        vertical-align: top;\n",
       "    }\n",
       "\n",
       "    .dataframe thead th {\n",
       "        text-align: right;\n",
       "    }\n",
       "</style>\n",
       "<table border=\"1\" class=\"dataframe\">\n",
       "  <thead>\n",
       "    <tr style=\"text-align: right;\">\n",
       "      <th></th>\n",
       "      <th>Actual Labels</th>\n",
       "      <th>Predicted Labels</th>\n",
       "    </tr>\n",
       "  </thead>\n",
       "  <tbody>\n",
       "    <tr>\n",
       "      <th>667</th>\n",
       "      <td>0</td>\n",
       "      <td>0</td>\n",
       "    </tr>\n",
       "    <tr>\n",
       "      <th>324</th>\n",
       "      <td>0</td>\n",
       "      <td>0</td>\n",
       "    </tr>\n",
       "    <tr>\n",
       "      <th>623</th>\n",
       "      <td>0</td>\n",
       "      <td>0</td>\n",
       "    </tr>\n",
       "    <tr>\n",
       "      <th>689</th>\n",
       "      <td>0</td>\n",
       "      <td>0</td>\n",
       "    </tr>\n",
       "    <tr>\n",
       "      <th>521</th>\n",
       "      <td>0</td>\n",
       "      <td>0</td>\n",
       "    </tr>\n",
       "    <tr>\n",
       "      <th>...</th>\n",
       "      <td>...</td>\n",
       "      <td>...</td>\n",
       "    </tr>\n",
       "    <tr>\n",
       "      <th>618</th>\n",
       "      <td>1</td>\n",
       "      <td>0</td>\n",
       "    </tr>\n",
       "    <tr>\n",
       "      <th>198</th>\n",
       "      <td>1</td>\n",
       "      <td>1</td>\n",
       "    </tr>\n",
       "    <tr>\n",
       "      <th>537</th>\n",
       "      <td>0</td>\n",
       "      <td>0</td>\n",
       "    </tr>\n",
       "    <tr>\n",
       "      <th>329</th>\n",
       "      <td>0</td>\n",
       "      <td>1</td>\n",
       "    </tr>\n",
       "    <tr>\n",
       "      <th>302</th>\n",
       "      <td>1</td>\n",
       "      <td>1</td>\n",
       "    </tr>\n",
       "  </tbody>\n",
       "</table>\n",
       "<p>231 rows × 2 columns</p>\n",
       "</div>"
      ],
      "text/plain": [
       "     Actual Labels  Predicted Labels\n",
       "667              0                 0\n",
       "324              0                 0\n",
       "623              0                 0\n",
       "689              0                 0\n",
       "521              0                 0\n",
       "..             ...               ...\n",
       "618              1                 0\n",
       "198              1                 1\n",
       "537              0                 0\n",
       "329              0                 1\n",
       "302              1                 1\n",
       "\n",
       "[231 rows x 2 columns]"
      ]
     },
     "execution_count": 82,
     "metadata": {},
     "output_type": "execute_result"
    }
   ],
   "source": [
    "# (2) Perform Decision Tree classification on pima-indians-diabetes.csv\n",
    "\n",
    "# split dataset into training and testing data with 70:30 ratio\n",
    "X_train, X_test, y_train, y_test = train_test_split(X, y, test_size=0.3, random_state=42)\n",
    "\n",
    "from sklearn.tree import DecisionTreeClassifier\n",
    "from sklearn.metrics import accuracy_score\n",
    "\n",
    "# create a Decision Tree Classifier\n",
    "clf = DecisionTreeClassifier(max_depth=3,criterion='entropy')\n",
    "\n",
    "# Train the model using the training sets\n",
    "clf.fit(X_train, y_train)\n",
    "\n",
    "# predict the repsonse for the test dataset\n",
    "prediction = clf.predict(X_test)\n",
    "\n",
    "print(\"Predicted Labels vs Actual Labels: \")\n",
    "\n",
    "temp\n"
   ]
  },
  {
   "cell_type": "code",
   "execution_count": 83,
   "metadata": {},
   "outputs": [
    {
     "name": "stdout",
     "output_type": "stream",
     "text": [
      "The Accuracy of Decision Tree is:  70.995670995671 %\n"
     ]
    }
   ],
   "source": [
    "print(\"The Accuracy of Decision Tree is: \", accuracy_score(y_test, prediction)*100, \"%\")\n",
    "accuracies.append(accuracy_score(y_test, prediction))"
   ]
  },
  {
   "cell_type": "code",
   "execution_count": 84,
   "metadata": {},
   "outputs": [
    {
     "name": "stdout",
     "output_type": "stream",
     "text": [
      "Predicted Labels vs Actual Labels: \n"
     ]
    },
    {
     "data": {
      "text/html": [
       "<div>\n",
       "<style scoped>\n",
       "    .dataframe tbody tr th:only-of-type {\n",
       "        vertical-align: middle;\n",
       "    }\n",
       "\n",
       "    .dataframe tbody tr th {\n",
       "        vertical-align: top;\n",
       "    }\n",
       "\n",
       "    .dataframe thead th {\n",
       "        text-align: right;\n",
       "    }\n",
       "</style>\n",
       "<table border=\"1\" class=\"dataframe\">\n",
       "  <thead>\n",
       "    <tr style=\"text-align: right;\">\n",
       "      <th></th>\n",
       "      <th>Actual Labels</th>\n",
       "      <th>Predicted Labels</th>\n",
       "    </tr>\n",
       "  </thead>\n",
       "  <tbody>\n",
       "    <tr>\n",
       "      <th>667</th>\n",
       "      <td>0</td>\n",
       "      <td>0</td>\n",
       "    </tr>\n",
       "    <tr>\n",
       "      <th>324</th>\n",
       "      <td>0</td>\n",
       "      <td>0</td>\n",
       "    </tr>\n",
       "    <tr>\n",
       "      <th>623</th>\n",
       "      <td>0</td>\n",
       "      <td>0</td>\n",
       "    </tr>\n",
       "    <tr>\n",
       "      <th>689</th>\n",
       "      <td>0</td>\n",
       "      <td>0</td>\n",
       "    </tr>\n",
       "    <tr>\n",
       "      <th>521</th>\n",
       "      <td>0</td>\n",
       "      <td>0</td>\n",
       "    </tr>\n",
       "    <tr>\n",
       "      <th>...</th>\n",
       "      <td>...</td>\n",
       "      <td>...</td>\n",
       "    </tr>\n",
       "    <tr>\n",
       "      <th>618</th>\n",
       "      <td>1</td>\n",
       "      <td>0</td>\n",
       "    </tr>\n",
       "    <tr>\n",
       "      <th>198</th>\n",
       "      <td>1</td>\n",
       "      <td>1</td>\n",
       "    </tr>\n",
       "    <tr>\n",
       "      <th>537</th>\n",
       "      <td>0</td>\n",
       "      <td>0</td>\n",
       "    </tr>\n",
       "    <tr>\n",
       "      <th>329</th>\n",
       "      <td>0</td>\n",
       "      <td>1</td>\n",
       "    </tr>\n",
       "    <tr>\n",
       "      <th>302</th>\n",
       "      <td>1</td>\n",
       "      <td>1</td>\n",
       "    </tr>\n",
       "  </tbody>\n",
       "</table>\n",
       "<p>231 rows × 2 columns</p>\n",
       "</div>"
      ],
      "text/plain": [
       "     Actual Labels  Predicted Labels\n",
       "667              0                 0\n",
       "324              0                 0\n",
       "623              0                 0\n",
       "689              0                 0\n",
       "521              0                 0\n",
       "..             ...               ...\n",
       "618              1                 0\n",
       "198              1                 1\n",
       "537              0                 0\n",
       "329              0                 1\n",
       "302              1                 1\n",
       "\n",
       "[231 rows x 2 columns]"
      ]
     },
     "execution_count": 84,
     "metadata": {},
     "output_type": "execute_result"
    }
   ],
   "source": [
    "# (3) Perform Fisher Discriminant Analysis on pima-indians-diabetes.csv and then perform decision tree classification. compare the results\n",
    "\n",
    "# create a Decision Tree Classifier\n",
    "clf = DecisionTreeClassifier(max_depth=3)\n",
    "\n",
    "# Train the model using the training sets after projection\n",
    "clf.fit(np.matmul(W.T,X_train.T).values.reshape(-1,1), y_train)\n",
    "\n",
    "# predict the repsonse for the test dataset after projection\n",
    "prediction = clf.predict(np.matmul(W.T,X_test.T).values.reshape(-1,1))\n",
    "\n",
    "temp = pd.DataFrame({'Actual Labels': y_test, 'Predicted Labels': prediction})\n",
    "\n",
    "print(\"Predicted Labels vs Actual Labels: \")\n",
    "\n",
    "temp"
   ]
  },
  {
   "cell_type": "code",
   "execution_count": 85,
   "metadata": {},
   "outputs": [
    {
     "name": "stdout",
     "output_type": "stream",
     "text": [
      "The Accuracy of Decision Tree after using Fischer's Linear Discriminant Function is:  77.48917748917748 %\n"
     ]
    }
   ],
   "source": [
    "print(\"The Accuracy of Decision Tree after using Fischer's Linear Discriminant Function is: \", accuracy_score(y_test, prediction)*100, \"%\")\n",
    "accuracies.append(accuracy_score(y_test, prediction))"
   ]
  },
  {
   "attachments": {},
   "cell_type": "markdown",
   "metadata": {},
   "source": [
    "Accuracy of the Decision Tree Model after Projection is slighlty better [(2 ~ 4)%] than the Decision Tree Model before Projection. \n",
    "\n",
    "# Accuracy Comparison : \n",
    "\n",
    "### Decision Tree < Decision Tree after Projection < Fisher's Discriminant Analysis"
   ]
  },
  {
   "cell_type": "code",
   "execution_count": 86,
   "metadata": {},
   "outputs": [
    {
     "data": {
      "text/plain": [
       "<AxesSubplot:>"
      ]
     },
     "execution_count": 86,
     "metadata": {},
     "output_type": "execute_result"
    },
    {
     "data": {
      "image/png": "[encoded data removed]",
      "text/plain": [
       "<Figure size 720x720 with 1 Axes>"
      ]
     },
     "metadata": {
      "needs_background": "light"
     },
     "output_type": "display_data"
    }
   ],
   "source": [
    "import seaborn as sns\n",
    " \n",
    "plt.figure(figsize=(10, 10))\n",
    "sns.set_theme(style=\"whitegrid\")\n",
    "sns.barplot(y=[\"Fischer's Linear Discriminant Classifier\", \"Decision Tree Classifier\", \"Decision Tree Classifier after FDA\"], x=accuracies, orient = \"h\")"
   ]
  }
 ],
 "metadata": {
  "kernelspec": {
   "display_name": "Python 3",
   "language": "python",
   "name": "python3"
  },
  "language_info": {
   "codemirror_mode": {
    "name": "ipython",
    "version": 3
   },
   "file_extension": ".py",
   "mimetype": "text/x-python",
   "name": "python",
   "nbconvert_exporter": "python",
   "pygments_lexer": "ipython3",
   "version": "3.9.0"
  },
  "orig_nbformat": 4,
  "vscode": {
   "interpreter": {
    "hash": "0a81e843f1d482f1dc5e4eee72325e728104ff4f7e60be1069df6c2925729e54"
   }
  }
 },
 "nbformat": 4,
 "nbformat_minor": 2
}
